{
 "cells": [
  {
   "cell_type": "markdown",
   "id": "d424c0df",
   "metadata": {},
   "source": [
    "## Practica de repositorios github\n",
    "\n",
    "-Lo relizaremos con ejersicios de practicando lambda"
   ]
  },
  {
   "cell_type": "code",
   "execution_count": null,
   "id": "fbb743b7",
   "metadata": {},
   "outputs": [
    {
     "name": "stdout",
     "output_type": "stream",
     "text": [
      "[35, 40, 33]\n"
     ]
    }
   ],
   "source": [
    "# Ejercicio 1: Filtrar edades mayores a 30\n",
    "# Tienes una lista de edades. Usa filter con lambda para obtener solo las edades mayores a 30.\n",
    "\n",
    "edades = [22, 35, 18, 40, 29, 33]\n",
    "edades_mayores_30 = list(filter(lambda x: x > 30, edades))\n",
    "print(edades_mayores_30) "
   ]
  },
  {
   "cell_type": "code",
   "execution_count": null,
   "id": "068a54fd",
   "metadata": {},
   "outputs": [
    {
     "name": "stdout",
     "output_type": "stream",
     "text": [
      "52\n"
     ]
    }
   ],
   "source": [
    "# Ejercicio 2: Sumar los valores positivos de una lista\n",
    "# Usa filter y sum con lambda para sumar solo los valores positivos de una lista de números.\n",
    "\n",
    "numeros = [-10, 15, -5, 30, -2, 7]\n",
    "suma_positivos = sum(filter(lambda x: x > 0, numeros))\n",
    "print(suma_positivos) \n"
   ]
  },
  {
   "cell_type": "code",
   "execution_count": 3,
   "id": "451af7a9",
   "metadata": {},
   "outputs": [
    {
     "name": "stdout",
     "output_type": "stream",
     "text": [
      "['ana', 'carlos', 'sofia', 'jorge']\n"
     ]
    }
   ],
   "source": [
    "# Ejercicio 5: Limpiar espacios y convertir a minúsculas\n",
    "# Tienes una lista de nombres con espacios extras y letras mayúsculas. Usa map y lambda para limpiarlos\n",
    "\n",
    "nombres = ['  Ana ', 'CARLOS', ' sofiA ', 'JORGE ']\n",
    "nombres_limpios = list(map(lambda x: x.strip().lower(), nombres))\n",
    "print(nombres_limpios)  # Output esperado: ['ana', 'carlos', 'sofia', 'jorge']\n"
   ]
  },
  {
   "cell_type": "code",
   "execution_count": null,
   "id": "ff3df87f",
   "metadata": {},
   "outputs": [],
   "source": []
  }
 ],
 "metadata": {
  "kernelspec": {
   "display_name": "base",
   "language": "python",
   "name": "python3"
  },
  "language_info": {
   "codemirror_mode": {
    "name": "ipython",
    "version": 3
   },
   "file_extension": ".py",
   "mimetype": "text/x-python",
   "name": "python",
   "nbconvert_exporter": "python",
   "pygments_lexer": "ipython3",
   "version": "3.12.4"
  }
 },
 "nbformat": 4,
 "nbformat_minor": 5
}
